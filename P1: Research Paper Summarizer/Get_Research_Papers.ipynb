{
 "cells": [
  {
   "cell_type": "code",
   "execution_count": 1,
   "id": "7cb236d5",
   "metadata": {},
   "outputs": [
    {
     "data": {
      "text/plain": [
       "True"
      ]
     },
     "execution_count": 1,
     "metadata": {},
     "output_type": "execute_result"
    }
   ],
   "source": [
    "from langgraph.graph import StateGraph, START, END\n",
    "from langchain_huggingface import ChatHuggingFace, HuggingFaceEndpoint\n",
    "from typing import TypedDict, Dict, List\n",
    "from dotenv import load_dotenv\n",
    "import requests\n",
    "load_dotenv()"
   ]
  },
  {
   "cell_type": "code",
   "execution_count": 2,
   "id": "dec9bc50",
   "metadata": {},
   "outputs": [],
   "source": [
    "llm = HuggingFaceEndpoint(\n",
    "    endpoint_url=\"openai/gpt-oss-20b\",\n",
    "    task=\"text-generation\",\n",
    "    )"
   ]
  },
  {
   "cell_type": "code",
   "execution_count": 3,
   "id": "c775f7b7",
   "metadata": {},
   "outputs": [],
   "source": [
    "Model = ChatHuggingFace(llm=llm)"
   ]
  },
  {
   "cell_type": "code",
   "execution_count": 12,
   "id": "eebef21c",
   "metadata": {},
   "outputs": [],
   "source": [
    "# Defining State \n",
    "class PaperInfo(TypedDict):\n",
    "    topic: str\n",
    "    offset: int\n",
    "    top_search: int\n",
    "    title: List[str]\n",
    "    abstract: List[str]\n",
    "    url: List[str]\n",
    "    citationCount: List[int]\n",
    "    result: str\n",
    "    "
   ]
  },
  {
   "cell_type": "code",
   "execution_count": 13,
   "id": "21a8df6a",
   "metadata": {},
   "outputs": [],
   "source": [
    "# Function to get papers from Semantic Scholar API\n",
    "\n",
    "def get_papers(Info :PaperInfo) -> PaperInfo:\n",
    "    url = \"https://api.semanticscholar.org/graph/v1/paper/search\"\n",
    "    params = {\n",
    "        \"query\": Info['topic'],\n",
    "        \"fields\": \"title,url,abstract,citationCount\",\n",
    "        \"limit\": Info.get('top_search', 3),\n",
    "        \"offset\": Info.get('offset', 0)\n",
    "    }\n",
    "    response = requests.get(url, params=params)\n",
    "    # response.raise_for_status() \n",
    "    data = response.json()\n",
    "\n",
    "    \n",
    "    for paper in data.get(\"data\", []):\n",
    "        Info[\"abstract\"].append( paper.get(\"abstract\"))\n",
    "        Info[\"title\"].append(paper.get(\"title\"))\n",
    "        Info[\"url\"].append(paper.get(\"url\"))    \n",
    "        Info[\"citationCount\"].append(paper.get(\"citationCount\"))\n",
    "    return Info"
   ]
  },
  {
   "cell_type": "code",
   "execution_count": 14,
   "id": "a857c1f8",
   "metadata": {},
   "outputs": [],
   "source": [
    "# Finail answer Drafting function\n",
    "def draft_answer(Info: PaperInfo) -> PaperInfo:\n",
    "    prompt = f\"Using the following papers, draft the summerization of each paper '{Info['topic']}'.\\n\\n\"\n",
    "    for i in range(len(Info['title'])):\n",
    "        prompt += f\"Title: {Info['title'][i]}\\nAbstract: {Info['abstract'][i]}\\nURL: {Info['url'][i]}\\nCitations: {Info['citationCount'][i]}\\n\\n\"\n",
    "    prompt += \"Summarize the key points from these papers in a concise manner.\\n\\n Title: \\n Citations: \\n Abstract Summery: \\n URL: \\n \"\n",
    "    \n",
    "    response = Model.invoke(prompt)\n",
    "    Info['result'] = response.content\n",
    "    return Info"
   ]
  },
  {
   "cell_type": "code",
   "execution_count": 15,
   "id": "5273af00",
   "metadata": {},
   "outputs": [],
   "source": [
    "# Graph Definition\n",
    "graph = StateGraph(PaperInfo)\n",
    "\n",
    "# adding notes\n",
    "graph.add_node(\"get_papers\", get_papers)\n",
    "graph.add_node(\"draft_answer\", draft_answer)\n",
    "\n",
    "# adding edges\n",
    "graph.add_edge(START, \"get_papers\")\n",
    "graph.add_edge(\"get_papers\", \"draft_answer\")\n",
    "graph.add_edge(\"draft_answer\", END)\n",
    "\n",
    "# Completing the graph\n",
    "research_paper_graph = graph.compile()"
   ]
  },
  {
   "cell_type": "code",
   "execution_count": 16,
   "id": "f6cf0617",
   "metadata": {},
   "outputs": [],
   "source": [
    "def get_paper(Info :PaperInfo) -> None:\n",
    "    url = \"http://api.semanticscholar.org/graph/v1/paper/search/bulk\"\n",
    "    params = {\n",
    "        \"query\": Info['topic'],\n",
    "        \"fields\": \"title,url,abstract,citationCount\",\n",
    "        \"limit\": 3,\n",
    "        \"offset\": Info.get('offset', 0)\n",
    "    }\n",
    "    response = requests.get(url, params=params)\n",
    "    print(response,'Hi Swarup')"
   ]
  },
  {
   "cell_type": "code",
   "execution_count": null,
   "id": "24e2bb10",
   "metadata": {},
   "outputs": [],
   "source": [
    "# example input\n",
    "initial_state: PaperInfo = {\n",
    "    \"topic\": \"Artificial Intelligence in Healthcare\",\n",
    "    \"offset\": 0,\n",
    "    \"top_search\": 4,\n",
    "    \"title\": [],\n",
    "    \"abstract\": [],\n",
    "    \"url\": [],\n",
    "    \"citationCount\": [],\n",
    "    \"result\": \"\"\n",
    "} \n"
   ]
  },
  {
   "cell_type": "code",
   "execution_count": null,
   "id": "0c936a4b",
   "metadata": {},
   "outputs": [
    {
     "data": {
      "text/plain": [
       "\"final_state = research_paper_graph.invoke(initial_state)\\nprint(final_state['result'])\""
      ]
     },
     "execution_count": 19,
     "metadata": {},
     "output_type": "execute_result"
    }
   ],
   "source": [
    "final_state = research_paper_graph.invoke(initial_state)\n",
    "print(final_state['result'])"
   ]
  },
  {
   "cell_type": "code",
   "execution_count": null,
   "id": "c7c6b390",
   "metadata": {},
   "outputs": [],
   "source": []
  }
 ],
 "metadata": {
  "kernelspec": {
   "display_name": "env1",
   "language": "python",
   "name": "python3"
  },
  "language_info": {
   "codemirror_mode": {
    "name": "ipython",
    "version": 3
   },
   "file_extension": ".py",
   "mimetype": "text/x-python",
   "name": "python",
   "nbconvert_exporter": "python",
   "pygments_lexer": "ipython3",
   "version": "3.13.7"
  }
 },
 "nbformat": 4,
 "nbformat_minor": 5
}
